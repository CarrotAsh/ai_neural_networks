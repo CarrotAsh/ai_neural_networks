{
 "cells": [
  {
   "cell_type": "markdown",
   "metadata": {
    "id": "lY-pfkAxnle2"
   },
   "source": [
    "# A. Enunciado de la práctica"
   ]
  },
  {
   "cell_type": "markdown",
   "metadata": {
    "id": "odvJR32Enle5"
   },
   "source": [
    "## 1. Objetivos de la práctica\n",
    "El desarrollo de esta práctica pretende que el alumnado analice, diseñe e implemente soluciones a un problema usando las técnicas de aprendizaje automático y redes neuronales impartidas en la asignatura Inteligencia Artificial (IA). Para ello, el alumnado desarrollará de forma grupal (por cuartetos) un proyecto de programación en lenguaje Python mediante el uso del entorno de programación Google Colab y cuadernos de Python."
   ]
  },
  {
   "cell_type": "markdown",
   "metadata": {
    "id": "KVH9e_lSnle6"
   },
   "source": [
    "## 2. Caso de estudio\n",
    "Se pretende resolver un problema de clasificación de especies de flores. Dadas las variables numéricas `sepal_length`, `sepal_width`, `petal_length` y `petal_width` se pretende encontrar la variable `species`. Este problema es típico en clasificación donde utilizando un número de mediciones se pretende dar una respuesta categórica.\n",
    "\n",
    "Para resolver este problema se propone el uso de una red de neuronas artificial. En particular, de un **perceptrón multicapa** que recibirá como entrada las cuatro variables y como salida obtendrá la especie de la planta.\n",
    "\n",
    "Para ello se proporciona un conjunto de datos a continuación:\n"
   ]
  },
  {
   "cell_type": "code",
   "execution_count": 1,
   "metadata": {
    "id": "SaPTDi76tLLa",
    "colab": {
     "base_uri": "https://localhost:8080/"
    },
    "outputId": "209e856a-1117-4835-c17c-ba3b565cfe24"
   },
   "outputs": [
    {
     "output_type": "stream",
     "name": "stdout",
     "text": [
      "--2025-01-12 00:10:49--  https://gist.githubusercontent.com/curran/a08a1080b88344b0c8a7/raw/0e7a9b0a5d22642a06d3d5b9bcbad9890c8ee534/iris.csv\n",
      "Resolving gist.githubusercontent.com (gist.githubusercontent.com)... 185.199.109.133, 185.199.111.133, 185.199.108.133, ...\n",
      "Connecting to gist.githubusercontent.com (gist.githubusercontent.com)|185.199.109.133|:443... connected.\n",
      "HTTP request sent, awaiting response... 200 OK\n",
      "Length: 3858 (3.8K) [text/plain]\n",
      "Saving to: ‘iris.csv’\n",
      "\n",
      "\riris.csv              0%[                    ]       0  --.-KB/s               \riris.csv            100%[===================>]   3.77K  --.-KB/s    in 0s      \n",
      "\n",
      "2025-01-12 00:10:49 (48.6 MB/s) - ‘iris.csv’ saved [3858/3858]\n",
      "\n"
     ]
    }
   ],
   "source": [
    "!wget https://gist.githubusercontent.com/curran/a08a1080b88344b0c8a7/raw/0e7a9b0a5d22642a06d3d5b9bcbad9890c8ee534/iris.csv"
   ]
  },
  {
   "cell_type": "code",
   "execution_count": 2,
   "metadata": {
    "id": "C_N6W80ItPDG",
    "colab": {
     "base_uri": "https://localhost:8080/",
     "height": 423
    },
    "outputId": "8efaea84-2916-48be-f07f-c7f64239185f"
   },
   "outputs": [
    {
     "output_type": "execute_result",
     "data": {
      "text/plain": [
       "     sepal_length  sepal_width  petal_length  petal_width    species\n",
       "0             5.1          3.5           1.4          0.2     setosa\n",
       "1             4.9          3.0           1.4          0.2     setosa\n",
       "2             4.7          3.2           1.3          0.2     setosa\n",
       "3             4.6          3.1           1.5          0.2     setosa\n",
       "4             5.0          3.6           1.4          0.2     setosa\n",
       "..            ...          ...           ...          ...        ...\n",
       "145           6.7          3.0           5.2          2.3  virginica\n",
       "146           6.3          2.5           5.0          1.9  virginica\n",
       "147           6.5          3.0           5.2          2.0  virginica\n",
       "148           6.2          3.4           5.4          2.3  virginica\n",
       "149           5.9          3.0           5.1          1.8  virginica\n",
       "\n",
       "[150 rows x 5 columns]"
      ],
      "text/html": [
       "\n",
       "  <div id=\"df-f525eb56-42a6-4378-b768-27e0fd5959a9\" class=\"colab-df-container\">\n",
       "    <div>\n",
       "<style scoped>\n",
       "    .dataframe tbody tr th:only-of-type {\n",
       "        vertical-align: middle;\n",
       "    }\n",
       "\n",
       "    .dataframe tbody tr th {\n",
       "        vertical-align: top;\n",
       "    }\n",
       "\n",
       "    .dataframe thead th {\n",
       "        text-align: right;\n",
       "    }\n",
       "</style>\n",
       "<table border=\"1\" class=\"dataframe\">\n",
       "  <thead>\n",
       "    <tr style=\"text-align: right;\">\n",
       "      <th></th>\n",
       "      <th>sepal_length</th>\n",
       "      <th>sepal_width</th>\n",
       "      <th>petal_length</th>\n",
       "      <th>petal_width</th>\n",
       "      <th>species</th>\n",
       "    </tr>\n",
       "  </thead>\n",
       "  <tbody>\n",
       "    <tr>\n",
       "      <th>0</th>\n",
       "      <td>5.1</td>\n",
       "      <td>3.5</td>\n",
       "      <td>1.4</td>\n",
       "      <td>0.2</td>\n",
       "      <td>setosa</td>\n",
       "    </tr>\n",
       "    <tr>\n",
       "      <th>1</th>\n",
       "      <td>4.9</td>\n",
       "      <td>3.0</td>\n",
       "      <td>1.4</td>\n",
       "      <td>0.2</td>\n",
       "      <td>setosa</td>\n",
       "    </tr>\n",
       "    <tr>\n",
       "      <th>2</th>\n",
       "      <td>4.7</td>\n",
       "      <td>3.2</td>\n",
       "      <td>1.3</td>\n",
       "      <td>0.2</td>\n",
       "      <td>setosa</td>\n",
       "    </tr>\n",
       "    <tr>\n",
       "      <th>3</th>\n",
       "      <td>4.6</td>\n",
       "      <td>3.1</td>\n",
       "      <td>1.5</td>\n",
       "      <td>0.2</td>\n",
       "      <td>setosa</td>\n",
       "    </tr>\n",
       "    <tr>\n",
       "      <th>4</th>\n",
       "      <td>5.0</td>\n",
       "      <td>3.6</td>\n",
       "      <td>1.4</td>\n",
       "      <td>0.2</td>\n",
       "      <td>setosa</td>\n",
       "    </tr>\n",
       "    <tr>\n",
       "      <th>...</th>\n",
       "      <td>...</td>\n",
       "      <td>...</td>\n",
       "      <td>...</td>\n",
       "      <td>...</td>\n",
       "      <td>...</td>\n",
       "    </tr>\n",
       "    <tr>\n",
       "      <th>145</th>\n",
       "      <td>6.7</td>\n",
       "      <td>3.0</td>\n",
       "      <td>5.2</td>\n",
       "      <td>2.3</td>\n",
       "      <td>virginica</td>\n",
       "    </tr>\n",
       "    <tr>\n",
       "      <th>146</th>\n",
       "      <td>6.3</td>\n",
       "      <td>2.5</td>\n",
       "      <td>5.0</td>\n",
       "      <td>1.9</td>\n",
       "      <td>virginica</td>\n",
       "    </tr>\n",
       "    <tr>\n",
       "      <th>147</th>\n",
       "      <td>6.5</td>\n",
       "      <td>3.0</td>\n",
       "      <td>5.2</td>\n",
       "      <td>2.0</td>\n",
       "      <td>virginica</td>\n",
       "    </tr>\n",
       "    <tr>\n",
       "      <th>148</th>\n",
       "      <td>6.2</td>\n",
       "      <td>3.4</td>\n",
       "      <td>5.4</td>\n",
       "      <td>2.3</td>\n",
       "      <td>virginica</td>\n",
       "    </tr>\n",
       "    <tr>\n",
       "      <th>149</th>\n",
       "      <td>5.9</td>\n",
       "      <td>3.0</td>\n",
       "      <td>5.1</td>\n",
       "      <td>1.8</td>\n",
       "      <td>virginica</td>\n",
       "    </tr>\n",
       "  </tbody>\n",
       "</table>\n",
       "<p>150 rows × 5 columns</p>\n",
       "</div>\n",
       "    <div class=\"colab-df-buttons\">\n",
       "\n",
       "  <div class=\"colab-df-container\">\n",
       "    <button class=\"colab-df-convert\" onclick=\"convertToInteractive('df-f525eb56-42a6-4378-b768-27e0fd5959a9')\"\n",
       "            title=\"Convert this dataframe to an interactive table.\"\n",
       "            style=\"display:none;\">\n",
       "\n",
       "  <svg xmlns=\"http://www.w3.org/2000/svg\" height=\"24px\" viewBox=\"0 -960 960 960\">\n",
       "    <path d=\"M120-120v-720h720v720H120Zm60-500h600v-160H180v160Zm220 220h160v-160H400v160Zm0 220h160v-160H400v160ZM180-400h160v-160H180v160Zm440 0h160v-160H620v160ZM180-180h160v-160H180v160Zm440 0h160v-160H620v160Z\"/>\n",
       "  </svg>\n",
       "    </button>\n",
       "\n",
       "  <style>\n",
       "    .colab-df-container {\n",
       "      display:flex;\n",
       "      gap: 12px;\n",
       "    }\n",
       "\n",
       "    .colab-df-convert {\n",
       "      background-color: #E8F0FE;\n",
       "      border: none;\n",
       "      border-radius: 50%;\n",
       "      cursor: pointer;\n",
       "      display: none;\n",
       "      fill: #1967D2;\n",
       "      height: 32px;\n",
       "      padding: 0 0 0 0;\n",
       "      width: 32px;\n",
       "    }\n",
       "\n",
       "    .colab-df-convert:hover {\n",
       "      background-color: #E2EBFA;\n",
       "      box-shadow: 0px 1px 2px rgba(60, 64, 67, 0.3), 0px 1px 3px 1px rgba(60, 64, 67, 0.15);\n",
       "      fill: #174EA6;\n",
       "    }\n",
       "\n",
       "    .colab-df-buttons div {\n",
       "      margin-bottom: 4px;\n",
       "    }\n",
       "\n",
       "    [theme=dark] .colab-df-convert {\n",
       "      background-color: #3B4455;\n",
       "      fill: #D2E3FC;\n",
       "    }\n",
       "\n",
       "    [theme=dark] .colab-df-convert:hover {\n",
       "      background-color: #434B5C;\n",
       "      box-shadow: 0px 1px 3px 1px rgba(0, 0, 0, 0.15);\n",
       "      filter: drop-shadow(0px 1px 2px rgba(0, 0, 0, 0.3));\n",
       "      fill: #FFFFFF;\n",
       "    }\n",
       "  </style>\n",
       "\n",
       "    <script>\n",
       "      const buttonEl =\n",
       "        document.querySelector('#df-f525eb56-42a6-4378-b768-27e0fd5959a9 button.colab-df-convert');\n",
       "      buttonEl.style.display =\n",
       "        google.colab.kernel.accessAllowed ? 'block' : 'none';\n",
       "\n",
       "      async function convertToInteractive(key) {\n",
       "        const element = document.querySelector('#df-f525eb56-42a6-4378-b768-27e0fd5959a9');\n",
       "        const dataTable =\n",
       "          await google.colab.kernel.invokeFunction('convertToInteractive',\n",
       "                                                    [key], {});\n",
       "        if (!dataTable) return;\n",
       "\n",
       "        const docLinkHtml = 'Like what you see? Visit the ' +\n",
       "          '<a target=\"_blank\" href=https://colab.research.google.com/notebooks/data_table.ipynb>data table notebook</a>'\n",
       "          + ' to learn more about interactive tables.';\n",
       "        element.innerHTML = '';\n",
       "        dataTable['output_type'] = 'display_data';\n",
       "        await google.colab.output.renderOutput(dataTable, element);\n",
       "        const docLink = document.createElement('div');\n",
       "        docLink.innerHTML = docLinkHtml;\n",
       "        element.appendChild(docLink);\n",
       "      }\n",
       "    </script>\n",
       "  </div>\n",
       "\n",
       "\n",
       "<div id=\"df-23c47f0b-4589-452e-aaba-4f6fce0ba997\">\n",
       "  <button class=\"colab-df-quickchart\" onclick=\"quickchart('df-23c47f0b-4589-452e-aaba-4f6fce0ba997')\"\n",
       "            title=\"Suggest charts\"\n",
       "            style=\"display:none;\">\n",
       "\n",
       "<svg xmlns=\"http://www.w3.org/2000/svg\" height=\"24px\"viewBox=\"0 0 24 24\"\n",
       "     width=\"24px\">\n",
       "    <g>\n",
       "        <path d=\"M19 3H5c-1.1 0-2 .9-2 2v14c0 1.1.9 2 2 2h14c1.1 0 2-.9 2-2V5c0-1.1-.9-2-2-2zM9 17H7v-7h2v7zm4 0h-2V7h2v10zm4 0h-2v-4h2v4z\"/>\n",
       "    </g>\n",
       "</svg>\n",
       "  </button>\n",
       "\n",
       "<style>\n",
       "  .colab-df-quickchart {\n",
       "      --bg-color: #E8F0FE;\n",
       "      --fill-color: #1967D2;\n",
       "      --hover-bg-color: #E2EBFA;\n",
       "      --hover-fill-color: #174EA6;\n",
       "      --disabled-fill-color: #AAA;\n",
       "      --disabled-bg-color: #DDD;\n",
       "  }\n",
       "\n",
       "  [theme=dark] .colab-df-quickchart {\n",
       "      --bg-color: #3B4455;\n",
       "      --fill-color: #D2E3FC;\n",
       "      --hover-bg-color: #434B5C;\n",
       "      --hover-fill-color: #FFFFFF;\n",
       "      --disabled-bg-color: #3B4455;\n",
       "      --disabled-fill-color: #666;\n",
       "  }\n",
       "\n",
       "  .colab-df-quickchart {\n",
       "    background-color: var(--bg-color);\n",
       "    border: none;\n",
       "    border-radius: 50%;\n",
       "    cursor: pointer;\n",
       "    display: none;\n",
       "    fill: var(--fill-color);\n",
       "    height: 32px;\n",
       "    padding: 0;\n",
       "    width: 32px;\n",
       "  }\n",
       "\n",
       "  .colab-df-quickchart:hover {\n",
       "    background-color: var(--hover-bg-color);\n",
       "    box-shadow: 0 1px 2px rgba(60, 64, 67, 0.3), 0 1px 3px 1px rgba(60, 64, 67, 0.15);\n",
       "    fill: var(--button-hover-fill-color);\n",
       "  }\n",
       "\n",
       "  .colab-df-quickchart-complete:disabled,\n",
       "  .colab-df-quickchart-complete:disabled:hover {\n",
       "    background-color: var(--disabled-bg-color);\n",
       "    fill: var(--disabled-fill-color);\n",
       "    box-shadow: none;\n",
       "  }\n",
       "\n",
       "  .colab-df-spinner {\n",
       "    border: 2px solid var(--fill-color);\n",
       "    border-color: transparent;\n",
       "    border-bottom-color: var(--fill-color);\n",
       "    animation:\n",
       "      spin 1s steps(1) infinite;\n",
       "  }\n",
       "\n",
       "  @keyframes spin {\n",
       "    0% {\n",
       "      border-color: transparent;\n",
       "      border-bottom-color: var(--fill-color);\n",
       "      border-left-color: var(--fill-color);\n",
       "    }\n",
       "    20% {\n",
       "      border-color: transparent;\n",
       "      border-left-color: var(--fill-color);\n",
       "      border-top-color: var(--fill-color);\n",
       "    }\n",
       "    30% {\n",
       "      border-color: transparent;\n",
       "      border-left-color: var(--fill-color);\n",
       "      border-top-color: var(--fill-color);\n",
       "      border-right-color: var(--fill-color);\n",
       "    }\n",
       "    40% {\n",
       "      border-color: transparent;\n",
       "      border-right-color: var(--fill-color);\n",
       "      border-top-color: var(--fill-color);\n",
       "    }\n",
       "    60% {\n",
       "      border-color: transparent;\n",
       "      border-right-color: var(--fill-color);\n",
       "    }\n",
       "    80% {\n",
       "      border-color: transparent;\n",
       "      border-right-color: var(--fill-color);\n",
       "      border-bottom-color: var(--fill-color);\n",
       "    }\n",
       "    90% {\n",
       "      border-color: transparent;\n",
       "      border-bottom-color: var(--fill-color);\n",
       "    }\n",
       "  }\n",
       "</style>\n",
       "\n",
       "  <script>\n",
       "    async function quickchart(key) {\n",
       "      const quickchartButtonEl =\n",
       "        document.querySelector('#' + key + ' button');\n",
       "      quickchartButtonEl.disabled = true;  // To prevent multiple clicks.\n",
       "      quickchartButtonEl.classList.add('colab-df-spinner');\n",
       "      try {\n",
       "        const charts = await google.colab.kernel.invokeFunction(\n",
       "            'suggestCharts', [key], {});\n",
       "      } catch (error) {\n",
       "        console.error('Error during call to suggestCharts:', error);\n",
       "      }\n",
       "      quickchartButtonEl.classList.remove('colab-df-spinner');\n",
       "      quickchartButtonEl.classList.add('colab-df-quickchart-complete');\n",
       "    }\n",
       "    (() => {\n",
       "      let quickchartButtonEl =\n",
       "        document.querySelector('#df-23c47f0b-4589-452e-aaba-4f6fce0ba997 button');\n",
       "      quickchartButtonEl.style.display =\n",
       "        google.colab.kernel.accessAllowed ? 'block' : 'none';\n",
       "    })();\n",
       "  </script>\n",
       "</div>\n",
       "\n",
       "    </div>\n",
       "  </div>\n"
      ],
      "application/vnd.google.colaboratory.intrinsic+json": {
       "type": "dataframe",
       "summary": "{\n  \"name\": \"pd\",\n  \"rows\": 150,\n  \"fields\": [\n    {\n      \"column\": \"sepal_length\",\n      \"properties\": {\n        \"dtype\": \"number\",\n        \"std\": 0.8280661279778629,\n        \"min\": 4.3,\n        \"max\": 7.9,\n        \"num_unique_values\": 35,\n        \"samples\": [\n          6.2,\n          4.5,\n          5.6\n        ],\n        \"semantic_type\": \"\",\n        \"description\": \"\"\n      }\n    },\n    {\n      \"column\": \"sepal_width\",\n      \"properties\": {\n        \"dtype\": \"number\",\n        \"std\": 0.4335943113621737,\n        \"min\": 2.0,\n        \"max\": 4.4,\n        \"num_unique_values\": 23,\n        \"samples\": [\n          2.3,\n          4.0,\n          3.5\n        ],\n        \"semantic_type\": \"\",\n        \"description\": \"\"\n      }\n    },\n    {\n      \"column\": \"petal_length\",\n      \"properties\": {\n        \"dtype\": \"number\",\n        \"std\": 1.7644204199522617,\n        \"min\": 1.0,\n        \"max\": 6.9,\n        \"num_unique_values\": 43,\n        \"samples\": [\n          6.7,\n          3.8,\n          3.7\n        ],\n        \"semantic_type\": \"\",\n        \"description\": \"\"\n      }\n    },\n    {\n      \"column\": \"petal_width\",\n      \"properties\": {\n        \"dtype\": \"number\",\n        \"std\": 0.7631607417008414,\n        \"min\": 0.1,\n        \"max\": 2.5,\n        \"num_unique_values\": 22,\n        \"samples\": [\n          0.2,\n          1.2,\n          1.3\n        ],\n        \"semantic_type\": \"\",\n        \"description\": \"\"\n      }\n    },\n    {\n      \"column\": \"species\",\n      \"properties\": {\n        \"dtype\": \"category\",\n        \"num_unique_values\": 3,\n        \"samples\": [\n          \"setosa\",\n          \"versicolor\",\n          \"virginica\"\n        ],\n        \"semantic_type\": \"\",\n        \"description\": \"\"\n      }\n    }\n  ]\n}"
      }
     },
     "metadata": {},
     "execution_count": 2
    }
   ],
   "source": [
    "# Carga de los datos\n",
    "import pandas as pd\n",
    "pd.read_csv('iris.csv')"
   ]
  },
  {
   "cell_type": "markdown",
   "metadata": {
    "id": "vakmiWD_nle7"
   },
   "source": [
    "## 3. Desarrollo\n",
    "El desarrollo de esta práctica supone completar este cuaderno de python para resolver el problema entrenando una red neuronal. Para ello debes seguir los siguientes pasos:\n",
    "\n",
    "\n",
    "1.   Preprocesado\n",
    "2.   Entrenamiento\n",
    "3.   Evaluación\n",
    "\n",
    "A continuación se describen los pasos pedidos en detalle.\n",
    "\n",
    "### 3.1 Preprocesado\n",
    "\n",
    "El preprocesado necesario en este problema es el siguiente: 1) Normalización de las variables de entrada. 2) Particionado entre entrenamiento, validación y test. 3) Aleatorización de los ejemplos de datos en el conjunto de entrenamiento.\n",
    "\n",
    "1.    Se normalizará en el rango $[0, 1]$ de tal manera que cada variable sea transofmada mediate la expresión:\n",
    "$$ x'_i = \\frac{x_i - x_{min}}{x_{max} - x_{min}}  $$\n",
    "donde $x$ es una variable de entre las variables elegidas para el problema.\n",
    "2.    Se desarrollará una función que, dada una semilla aleatoria, obtenga un 80% de datos para entrenamiento, un 10% para validación y un 10% para test. No es necesario estratificar ya que los datos están balanceados.\n",
    "\n",
    "### 3.2 Entrenamiento\n",
    "\n",
    "Se debe implementar la red neuronal al completo. Se realizará un perceptrón multicapa en el que se probará con un número de capas ocultas igual a $L=\\{1,2,4\\}$ y con un número de neuronas en la(s) capa(s) oculta(s) igual a $H=\\{2,32,512\\}$. Se debe implementar en su totalidad las funcionalidades de **propagación hacia adelante** y el algoritmo de **backpropagation**, así como el bucle de entrenamiento. Se seguirá el paso de aprendizaje como:\n",
    "1.   Cargar un ejemplo de datos\n",
    "2.   Separar etiqueta ($y_i$) de variables ($x_i$) para el ejemplo $i$\n",
    "3.   Computar $y'_i = f(x_i)$ donde $f$ es la red neuronal y $y'_i$ es la salida predicha.\n",
    "4.   Comparar $l(y_i, y'_i)=y_i-y'_i$ para sacar la pérdida.\n",
    "5.   Computar la actualización de los pesos mediante backpropagation\n",
    "6.   Actualizar los pesos\n",
    "\n",
    "Y el proceso de aprendizaje como:\n",
    "1.   Ciclo de entrenamiento\n",
    "2.   Ciclo de validación\n",
    "3.   Repetir 1 y 2 durante X epochs.\n",
    "\n",
    "### 3.3 Evaluación\n",
    "\n",
    "Se debe implementar al menos la métrica Accuracy y calcularla con los datos del conjunto de test. Se podrán implementar otras métricas que se considere necesario.\n",
    "\n",
    "\n",
    "### Experimentación\n",
    "\n",
    "Dada la naturaleza estocástico de los algoritmos neuronales, cada configuración deberá ser evaluada al menos 5 veces con distintos números aleatorios (semillas). Se debe mostrar exclusivamente la media del Accuracy de cinco entrenamientos sobre el conjunto de Test.\n",
    "\n",
    "Se probará con un número de capas ocultas igual a $L=\\{1,2,4\\}$ y con un número de neuronas en la(s) capa(s) oculta(s) igual a $H=\\{2,32,512\\}$. $α=0.5$ y 25 épocas.\n",
    "\n",
    "Estas configuraciones pueden dar buenos o malos resultados, apuntad el resultado y considerad como acabado el experimento cuando concluyan. Las métricas deben calcularse como la media de 5 ejecuciones con diferentes semillas.\n",
    "\n",
    "Para cada configuración propuesta se debe proporcionar una tabla de estas características (Puede usarse un generador de tablas https://www.tablesgenerator.com/markdown_tables o pandas https://pandas.pydata.org/docs/user_guide/index.html):\n",
    "\n",
    "| HxL | 1   | 3   | 5   | 10  |\n",
    "|-----|-----|-----|-----|-----|\n",
    "| 1   | 50% | 50% | 50% | 50% |\n",
    "| 4   | 50% | 50% | 50% | 50% |\n",
    "| 8   | 50% | 50% | 50% | 50% |\n",
    "| 100 | 50% | 50% | 50% | 50% |"
   ]
  },
  {
   "cell_type": "markdown",
   "metadata": {
    "id": "k7n6wwIjnle8"
   },
   "source": [
    "## 4. Normativa de la práctica\n",
    "Para el desarrollo del proyecto de programación se proporciona este cuaderno que sirve a modo de proyecto de programación. Se permiten crear todas las funciones adicionales que sea necesario siempre y cuando se respete la estructura general de este cuaderno. Este cuaderno es el único entregable, por tanto desarrollar código fuera de él no es recomendable.\n",
    "\n",
    "Será necesario realizar una comparativa de resultados en una o varias tablas, así como incluir unas conclusiones al respecto.\n",
    "\n",
    "La práctica debe realizarse teniendo en cuenta la siguiente normativa:\n",
    "* NO está permitido alterar los nombres, parámetros ni tipo de retorno de ninguno de los métodos proporcionados. El método modificado se evaluará como 0 así como todos los métodos que dependan de él.\n",
    "* No está permitido el uso de librerías externas excepto numpy y pandas. El uso de librerías externas hará que se evalúe la práctica como 0.\n",
    "* La práctica se realizará de forma grupal (grupos de 4 alumnos). Cada grupo deberá desarrollar de manera independiente su propia práctica y realizar su propia entrega.\n",
    "* El plagio de la práctica queda estrictamente prohibido. La detección de plagio supondrá una calificación de 0 en la convocatoria de la asignatura para todos los alumnos implicados, así como la posibilidad de apertura de expediente académico disciplinar.\n",
    "* Para ser evaluado de la práctica es obligatorio entregarla en plazo, habiendo realizado correctamente al menos una funcionalidad de las pedidas. Una entrega fuera de plazo será evaluada como 0.\n",
    "* Usa este cuaderno a modo de memoria, justificando las decisiones que tomes a lo largo del proceso de desarrollo. El desarrollo en texto puntúa de cara a la nota de la práctica.\n",
    "* De cara a la entrega es estrictamente necesario entregar el cuaderno ejecutado al completo. Una entrega que no haya sido ejecutada con éxito hasta la última celda será evaluada como 0. (Entregad el archivo .ipynb)\n",
    "* Se debe comentar el código adecuadamente. Este apartado es puntuable.\n",
    "* Esta practica es OPCIONAL y solo será valorada si el alumno tiene 5 puntos o más en la asignatura."
   ]
  },
  {
   "cell_type": "markdown",
   "metadata": {
    "id": "FyyEkYr_nle8"
   },
   "source": [
    "# Cuerpo de la práctica\n",
    "Usa las siguientes celdas para desarrollar todo el código pedido. Recuerda respetar esta estructura general y añadir celdas siempre dentro de cada apartado."
   ]
  },
  {
   "cell_type": "markdown",
   "metadata": {
    "id": "zV8OhkMS8vIy"
   },
   "source": [
    "## Preprocesado"
   ]
  },
  {
   "cell_type": "code",
   "execution_count": 3,
   "metadata": {
    "id": "DjskCvvO9tw8",
    "colab": {
     "base_uri": "https://localhost:8080/"
    },
    "outputId": "46cc85be-e0fd-4362-85f8-d0e40e890d22"
   },
   "outputs": [
    {
     "output_type": "stream",
     "name": "stdout",
     "text": [
      "--2025-01-12 00:10:50--  https://gist.githubusercontent.com/curran/a08a1080b88344b0c8a7/raw/0e7a9b0a5d22642a06d3d5b9bcbad9890c8ee534/iris.csv\n",
      "Resolving gist.githubusercontent.com (gist.githubusercontent.com)... 185.199.111.133, 185.199.110.133, 185.199.109.133, ...\n",
      "Connecting to gist.githubusercontent.com (gist.githubusercontent.com)|185.199.111.133|:443... connected.\n",
      "HTTP request sent, awaiting response... 200 OK\n",
      "Length: 3858 (3.8K) [text/plain]\n",
      "Saving to: ‘iris.csv.1’\n",
      "\n",
      "\riris.csv.1            0%[                    ]       0  --.-KB/s               \riris.csv.1          100%[===================>]   3.77K  --.-KB/s    in 0s      \n",
      "\n",
      "2025-01-12 00:10:50 (33.2 MB/s) - ‘iris.csv.1’ saved [3858/3858]\n",
      "\n"
     ]
    }
   ],
   "source": [
    "!wget https://gist.githubusercontent.com/curran/a08a1080b88344b0c8a7/raw/0e7a9b0a5d22642a06d3d5b9bcbad9890c8ee534/iris.csv"
   ]
  },
  {
   "cell_type": "code",
   "execution_count": 4,
   "metadata": {
    "id": "GJ_uWDT79wXN",
    "colab": {
     "base_uri": "https://localhost:8080/",
     "height": 423
    },
    "outputId": "da78095c-9a4d-440f-8b0f-4537a3d93968"
   },
   "outputs": [
    {
     "output_type": "execute_result",
     "data": {
      "text/plain": [
       "     sepal_length  sepal_width  petal_length  petal_width    species\n",
       "0             5.1          3.5           1.4          0.2     setosa\n",
       "1             4.9          3.0           1.4          0.2     setosa\n",
       "2             4.7          3.2           1.3          0.2     setosa\n",
       "3             4.6          3.1           1.5          0.2     setosa\n",
       "4             5.0          3.6           1.4          0.2     setosa\n",
       "..            ...          ...           ...          ...        ...\n",
       "145           6.7          3.0           5.2          2.3  virginica\n",
       "146           6.3          2.5           5.0          1.9  virginica\n",
       "147           6.5          3.0           5.2          2.0  virginica\n",
       "148           6.2          3.4           5.4          2.3  virginica\n",
       "149           5.9          3.0           5.1          1.8  virginica\n",
       "\n",
       "[150 rows x 5 columns]"
      ],
      "text/html": [
       "\n",
       "  <div id=\"df-9b9da20f-8536-4c3b-b863-91d41201ef9d\" class=\"colab-df-container\">\n",
       "    <div>\n",
       "<style scoped>\n",
       "    .dataframe tbody tr th:only-of-type {\n",
       "        vertical-align: middle;\n",
       "    }\n",
       "\n",
       "    .dataframe tbody tr th {\n",
       "        vertical-align: top;\n",
       "    }\n",
       "\n",
       "    .dataframe thead th {\n",
       "        text-align: right;\n",
       "    }\n",
       "</style>\n",
       "<table border=\"1\" class=\"dataframe\">\n",
       "  <thead>\n",
       "    <tr style=\"text-align: right;\">\n",
       "      <th></th>\n",
       "      <th>sepal_length</th>\n",
       "      <th>sepal_width</th>\n",
       "      <th>petal_length</th>\n",
       "      <th>petal_width</th>\n",
       "      <th>species</th>\n",
       "    </tr>\n",
       "  </thead>\n",
       "  <tbody>\n",
       "    <tr>\n",
       "      <th>0</th>\n",
       "      <td>5.1</td>\n",
       "      <td>3.5</td>\n",
       "      <td>1.4</td>\n",
       "      <td>0.2</td>\n",
       "      <td>setosa</td>\n",
       "    </tr>\n",
       "    <tr>\n",
       "      <th>1</th>\n",
       "      <td>4.9</td>\n",
       "      <td>3.0</td>\n",
       "      <td>1.4</td>\n",
       "      <td>0.2</td>\n",
       "      <td>setosa</td>\n",
       "    </tr>\n",
       "    <tr>\n",
       "      <th>2</th>\n",
       "      <td>4.7</td>\n",
       "      <td>3.2</td>\n",
       "      <td>1.3</td>\n",
       "      <td>0.2</td>\n",
       "      <td>setosa</td>\n",
       "    </tr>\n",
       "    <tr>\n",
       "      <th>3</th>\n",
       "      <td>4.6</td>\n",
       "      <td>3.1</td>\n",
       "      <td>1.5</td>\n",
       "      <td>0.2</td>\n",
       "      <td>setosa</td>\n",
       "    </tr>\n",
       "    <tr>\n",
       "      <th>4</th>\n",
       "      <td>5.0</td>\n",
       "      <td>3.6</td>\n",
       "      <td>1.4</td>\n",
       "      <td>0.2</td>\n",
       "      <td>setosa</td>\n",
       "    </tr>\n",
       "    <tr>\n",
       "      <th>...</th>\n",
       "      <td>...</td>\n",
       "      <td>...</td>\n",
       "      <td>...</td>\n",
       "      <td>...</td>\n",
       "      <td>...</td>\n",
       "    </tr>\n",
       "    <tr>\n",
       "      <th>145</th>\n",
       "      <td>6.7</td>\n",
       "      <td>3.0</td>\n",
       "      <td>5.2</td>\n",
       "      <td>2.3</td>\n",
       "      <td>virginica</td>\n",
       "    </tr>\n",
       "    <tr>\n",
       "      <th>146</th>\n",
       "      <td>6.3</td>\n",
       "      <td>2.5</td>\n",
       "      <td>5.0</td>\n",
       "      <td>1.9</td>\n",
       "      <td>virginica</td>\n",
       "    </tr>\n",
       "    <tr>\n",
       "      <th>147</th>\n",
       "      <td>6.5</td>\n",
       "      <td>3.0</td>\n",
       "      <td>5.2</td>\n",
       "      <td>2.0</td>\n",
       "      <td>virginica</td>\n",
       "    </tr>\n",
       "    <tr>\n",
       "      <th>148</th>\n",
       "      <td>6.2</td>\n",
       "      <td>3.4</td>\n",
       "      <td>5.4</td>\n",
       "      <td>2.3</td>\n",
       "      <td>virginica</td>\n",
       "    </tr>\n",
       "    <tr>\n",
       "      <th>149</th>\n",
       "      <td>5.9</td>\n",
       "      <td>3.0</td>\n",
       "      <td>5.1</td>\n",
       "      <td>1.8</td>\n",
       "      <td>virginica</td>\n",
       "    </tr>\n",
       "  </tbody>\n",
       "</table>\n",
       "<p>150 rows × 5 columns</p>\n",
       "</div>\n",
       "    <div class=\"colab-df-buttons\">\n",
       "\n",
       "  <div class=\"colab-df-container\">\n",
       "    <button class=\"colab-df-convert\" onclick=\"convertToInteractive('df-9b9da20f-8536-4c3b-b863-91d41201ef9d')\"\n",
       "            title=\"Convert this dataframe to an interactive table.\"\n",
       "            style=\"display:none;\">\n",
       "\n",
       "  <svg xmlns=\"http://www.w3.org/2000/svg\" height=\"24px\" viewBox=\"0 -960 960 960\">\n",
       "    <path d=\"M120-120v-720h720v720H120Zm60-500h600v-160H180v160Zm220 220h160v-160H400v160Zm0 220h160v-160H400v160ZM180-400h160v-160H180v160Zm440 0h160v-160H620v160ZM180-180h160v-160H180v160Zm440 0h160v-160H620v160Z\"/>\n",
       "  </svg>\n",
       "    </button>\n",
       "\n",
       "  <style>\n",
       "    .colab-df-container {\n",
       "      display:flex;\n",
       "      gap: 12px;\n",
       "    }\n",
       "\n",
       "    .colab-df-convert {\n",
       "      background-color: #E8F0FE;\n",
       "      border: none;\n",
       "      border-radius: 50%;\n",
       "      cursor: pointer;\n",
       "      display: none;\n",
       "      fill: #1967D2;\n",
       "      height: 32px;\n",
       "      padding: 0 0 0 0;\n",
       "      width: 32px;\n",
       "    }\n",
       "\n",
       "    .colab-df-convert:hover {\n",
       "      background-color: #E2EBFA;\n",
       "      box-shadow: 0px 1px 2px rgba(60, 64, 67, 0.3), 0px 1px 3px 1px rgba(60, 64, 67, 0.15);\n",
       "      fill: #174EA6;\n",
       "    }\n",
       "\n",
       "    .colab-df-buttons div {\n",
       "      margin-bottom: 4px;\n",
       "    }\n",
       "\n",
       "    [theme=dark] .colab-df-convert {\n",
       "      background-color: #3B4455;\n",
       "      fill: #D2E3FC;\n",
       "    }\n",
       "\n",
       "    [theme=dark] .colab-df-convert:hover {\n",
       "      background-color: #434B5C;\n",
       "      box-shadow: 0px 1px 3px 1px rgba(0, 0, 0, 0.15);\n",
       "      filter: drop-shadow(0px 1px 2px rgba(0, 0, 0, 0.3));\n",
       "      fill: #FFFFFF;\n",
       "    }\n",
       "  </style>\n",
       "\n",
       "    <script>\n",
       "      const buttonEl =\n",
       "        document.querySelector('#df-9b9da20f-8536-4c3b-b863-91d41201ef9d button.colab-df-convert');\n",
       "      buttonEl.style.display =\n",
       "        google.colab.kernel.accessAllowed ? 'block' : 'none';\n",
       "\n",
       "      async function convertToInteractive(key) {\n",
       "        const element = document.querySelector('#df-9b9da20f-8536-4c3b-b863-91d41201ef9d');\n",
       "        const dataTable =\n",
       "          await google.colab.kernel.invokeFunction('convertToInteractive',\n",
       "                                                    [key], {});\n",
       "        if (!dataTable) return;\n",
       "\n",
       "        const docLinkHtml = 'Like what you see? Visit the ' +\n",
       "          '<a target=\"_blank\" href=https://colab.research.google.com/notebooks/data_table.ipynb>data table notebook</a>'\n",
       "          + ' to learn more about interactive tables.';\n",
       "        element.innerHTML = '';\n",
       "        dataTable['output_type'] = 'display_data';\n",
       "        await google.colab.output.renderOutput(dataTable, element);\n",
       "        const docLink = document.createElement('div');\n",
       "        docLink.innerHTML = docLinkHtml;\n",
       "        element.appendChild(docLink);\n",
       "      }\n",
       "    </script>\n",
       "  </div>\n",
       "\n",
       "\n",
       "<div id=\"df-518a8001-63af-4839-a1f9-700ceec8a156\">\n",
       "  <button class=\"colab-df-quickchart\" onclick=\"quickchart('df-518a8001-63af-4839-a1f9-700ceec8a156')\"\n",
       "            title=\"Suggest charts\"\n",
       "            style=\"display:none;\">\n",
       "\n",
       "<svg xmlns=\"http://www.w3.org/2000/svg\" height=\"24px\"viewBox=\"0 0 24 24\"\n",
       "     width=\"24px\">\n",
       "    <g>\n",
       "        <path d=\"M19 3H5c-1.1 0-2 .9-2 2v14c0 1.1.9 2 2 2h14c1.1 0 2-.9 2-2V5c0-1.1-.9-2-2-2zM9 17H7v-7h2v7zm4 0h-2V7h2v10zm4 0h-2v-4h2v4z\"/>\n",
       "    </g>\n",
       "</svg>\n",
       "  </button>\n",
       "\n",
       "<style>\n",
       "  .colab-df-quickchart {\n",
       "      --bg-color: #E8F0FE;\n",
       "      --fill-color: #1967D2;\n",
       "      --hover-bg-color: #E2EBFA;\n",
       "      --hover-fill-color: #174EA6;\n",
       "      --disabled-fill-color: #AAA;\n",
       "      --disabled-bg-color: #DDD;\n",
       "  }\n",
       "\n",
       "  [theme=dark] .colab-df-quickchart {\n",
       "      --bg-color: #3B4455;\n",
       "      --fill-color: #D2E3FC;\n",
       "      --hover-bg-color: #434B5C;\n",
       "      --hover-fill-color: #FFFFFF;\n",
       "      --disabled-bg-color: #3B4455;\n",
       "      --disabled-fill-color: #666;\n",
       "  }\n",
       "\n",
       "  .colab-df-quickchart {\n",
       "    background-color: var(--bg-color);\n",
       "    border: none;\n",
       "    border-radius: 50%;\n",
       "    cursor: pointer;\n",
       "    display: none;\n",
       "    fill: var(--fill-color);\n",
       "    height: 32px;\n",
       "    padding: 0;\n",
       "    width: 32px;\n",
       "  }\n",
       "\n",
       "  .colab-df-quickchart:hover {\n",
       "    background-color: var(--hover-bg-color);\n",
       "    box-shadow: 0 1px 2px rgba(60, 64, 67, 0.3), 0 1px 3px 1px rgba(60, 64, 67, 0.15);\n",
       "    fill: var(--button-hover-fill-color);\n",
       "  }\n",
       "\n",
       "  .colab-df-quickchart-complete:disabled,\n",
       "  .colab-df-quickchart-complete:disabled:hover {\n",
       "    background-color: var(--disabled-bg-color);\n",
       "    fill: var(--disabled-fill-color);\n",
       "    box-shadow: none;\n",
       "  }\n",
       "\n",
       "  .colab-df-spinner {\n",
       "    border: 2px solid var(--fill-color);\n",
       "    border-color: transparent;\n",
       "    border-bottom-color: var(--fill-color);\n",
       "    animation:\n",
       "      spin 1s steps(1) infinite;\n",
       "  }\n",
       "\n",
       "  @keyframes spin {\n",
       "    0% {\n",
       "      border-color: transparent;\n",
       "      border-bottom-color: var(--fill-color);\n",
       "      border-left-color: var(--fill-color);\n",
       "    }\n",
       "    20% {\n",
       "      border-color: transparent;\n",
       "      border-left-color: var(--fill-color);\n",
       "      border-top-color: var(--fill-color);\n",
       "    }\n",
       "    30% {\n",
       "      border-color: transparent;\n",
       "      border-left-color: var(--fill-color);\n",
       "      border-top-color: var(--fill-color);\n",
       "      border-right-color: var(--fill-color);\n",
       "    }\n",
       "    40% {\n",
       "      border-color: transparent;\n",
       "      border-right-color: var(--fill-color);\n",
       "      border-top-color: var(--fill-color);\n",
       "    }\n",
       "    60% {\n",
       "      border-color: transparent;\n",
       "      border-right-color: var(--fill-color);\n",
       "    }\n",
       "    80% {\n",
       "      border-color: transparent;\n",
       "      border-right-color: var(--fill-color);\n",
       "      border-bottom-color: var(--fill-color);\n",
       "    }\n",
       "    90% {\n",
       "      border-color: transparent;\n",
       "      border-bottom-color: var(--fill-color);\n",
       "    }\n",
       "  }\n",
       "</style>\n",
       "\n",
       "  <script>\n",
       "    async function quickchart(key) {\n",
       "      const quickchartButtonEl =\n",
       "        document.querySelector('#' + key + ' button');\n",
       "      quickchartButtonEl.disabled = true;  // To prevent multiple clicks.\n",
       "      quickchartButtonEl.classList.add('colab-df-spinner');\n",
       "      try {\n",
       "        const charts = await google.colab.kernel.invokeFunction(\n",
       "            'suggestCharts', [key], {});\n",
       "      } catch (error) {\n",
       "        console.error('Error during call to suggestCharts:', error);\n",
       "      }\n",
       "      quickchartButtonEl.classList.remove('colab-df-spinner');\n",
       "      quickchartButtonEl.classList.add('colab-df-quickchart-complete');\n",
       "    }\n",
       "    (() => {\n",
       "      let quickchartButtonEl =\n",
       "        document.querySelector('#df-518a8001-63af-4839-a1f9-700ceec8a156 button');\n",
       "      quickchartButtonEl.style.display =\n",
       "        google.colab.kernel.accessAllowed ? 'block' : 'none';\n",
       "    })();\n",
       "  </script>\n",
       "</div>\n",
       "\n",
       "  <div id=\"id_7e9b2dcd-4b4f-41e8-ba23-b831dcde8a01\">\n",
       "    <style>\n",
       "      .colab-df-generate {\n",
       "        background-color: #E8F0FE;\n",
       "        border: none;\n",
       "        border-radius: 50%;\n",
       "        cursor: pointer;\n",
       "        display: none;\n",
       "        fill: #1967D2;\n",
       "        height: 32px;\n",
       "        padding: 0 0 0 0;\n",
       "        width: 32px;\n",
       "      }\n",
       "\n",
       "      .colab-df-generate:hover {\n",
       "        background-color: #E2EBFA;\n",
       "        box-shadow: 0px 1px 2px rgba(60, 64, 67, 0.3), 0px 1px 3px 1px rgba(60, 64, 67, 0.15);\n",
       "        fill: #174EA6;\n",
       "      }\n",
       "\n",
       "      [theme=dark] .colab-df-generate {\n",
       "        background-color: #3B4455;\n",
       "        fill: #D2E3FC;\n",
       "      }\n",
       "\n",
       "      [theme=dark] .colab-df-generate:hover {\n",
       "        background-color: #434B5C;\n",
       "        box-shadow: 0px 1px 3px 1px rgba(0, 0, 0, 0.15);\n",
       "        filter: drop-shadow(0px 1px 2px rgba(0, 0, 0, 0.3));\n",
       "        fill: #FFFFFF;\n",
       "      }\n",
       "    </style>\n",
       "    <button class=\"colab-df-generate\" onclick=\"generateWithVariable('dataset')\"\n",
       "            title=\"Generate code using this dataframe.\"\n",
       "            style=\"display:none;\">\n",
       "\n",
       "  <svg xmlns=\"http://www.w3.org/2000/svg\" height=\"24px\"viewBox=\"0 0 24 24\"\n",
       "       width=\"24px\">\n",
       "    <path d=\"M7,19H8.4L18.45,9,17,7.55,7,17.6ZM5,21V16.75L18.45,3.32a2,2,0,0,1,2.83,0l1.4,1.43a1.91,1.91,0,0,1,.58,1.4,1.91,1.91,0,0,1-.58,1.4L9.25,21ZM18.45,9,17,7.55Zm-12,3A5.31,5.31,0,0,0,4.9,8.1,5.31,5.31,0,0,0,1,6.5,5.31,5.31,0,0,0,4.9,4.9,5.31,5.31,0,0,0,6.5,1,5.31,5.31,0,0,0,8.1,4.9,5.31,5.31,0,0,0,12,6.5,5.46,5.46,0,0,0,6.5,12Z\"/>\n",
       "  </svg>\n",
       "    </button>\n",
       "    <script>\n",
       "      (() => {\n",
       "      const buttonEl =\n",
       "        document.querySelector('#id_7e9b2dcd-4b4f-41e8-ba23-b831dcde8a01 button.colab-df-generate');\n",
       "      buttonEl.style.display =\n",
       "        google.colab.kernel.accessAllowed ? 'block' : 'none';\n",
       "\n",
       "      buttonEl.onclick = () => {\n",
       "        google.colab.notebook.generateWithVariable('dataset');\n",
       "      }\n",
       "      })();\n",
       "    </script>\n",
       "  </div>\n",
       "\n",
       "    </div>\n",
       "  </div>\n"
      ],
      "application/vnd.google.colaboratory.intrinsic+json": {
       "type": "dataframe",
       "variable_name": "dataset",
       "summary": "{\n  \"name\": \"dataset\",\n  \"rows\": 150,\n  \"fields\": [\n    {\n      \"column\": \"sepal_length\",\n      \"properties\": {\n        \"dtype\": \"number\",\n        \"std\": 0.8280661279778629,\n        \"min\": 4.3,\n        \"max\": 7.9,\n        \"num_unique_values\": 35,\n        \"samples\": [\n          6.2,\n          4.5,\n          5.6\n        ],\n        \"semantic_type\": \"\",\n        \"description\": \"\"\n      }\n    },\n    {\n      \"column\": \"sepal_width\",\n      \"properties\": {\n        \"dtype\": \"number\",\n        \"std\": 0.4335943113621737,\n        \"min\": 2.0,\n        \"max\": 4.4,\n        \"num_unique_values\": 23,\n        \"samples\": [\n          2.3,\n          4.0,\n          3.5\n        ],\n        \"semantic_type\": \"\",\n        \"description\": \"\"\n      }\n    },\n    {\n      \"column\": \"petal_length\",\n      \"properties\": {\n        \"dtype\": \"number\",\n        \"std\": 1.7644204199522617,\n        \"min\": 1.0,\n        \"max\": 6.9,\n        \"num_unique_values\": 43,\n        \"samples\": [\n          6.7,\n          3.8,\n          3.7\n        ],\n        \"semantic_type\": \"\",\n        \"description\": \"\"\n      }\n    },\n    {\n      \"column\": \"petal_width\",\n      \"properties\": {\n        \"dtype\": \"number\",\n        \"std\": 0.7631607417008414,\n        \"min\": 0.1,\n        \"max\": 2.5,\n        \"num_unique_values\": 22,\n        \"samples\": [\n          0.2,\n          1.2,\n          1.3\n        ],\n        \"semantic_type\": \"\",\n        \"description\": \"\"\n      }\n    },\n    {\n      \"column\": \"species\",\n      \"properties\": {\n        \"dtype\": \"category\",\n        \"num_unique_values\": 3,\n        \"samples\": [\n          \"setosa\",\n          \"versicolor\",\n          \"virginica\"\n        ],\n        \"semantic_type\": \"\",\n        \"description\": \"\"\n      }\n    }\n  ]\n}"
      }
     },
     "metadata": {},
     "execution_count": 4
    }
   ],
   "source": [
    "# Carga de los datos\n",
    "import pandas as pd\n",
    "import numpy as np\n",
    "\n",
    "dataset = pd.read_csv('iris.csv')\n",
    "dataset"
   ]
  },
  {
   "cell_type": "markdown",
   "metadata": {
    "id": "pX5DTTqW6nX_"
   },
   "source": [
    "Primero normaliza los datos, usa la formula: $$ x'_i = \\frac{x_i - x_{min}}{x_{max} - x_{min}}  $$\n",
    "*   `normalize_variable` normaliza solo una columna de pandas\n",
    "*   `normalize_dataset` normaliza solo las columnas indicadas en variables\n",
    "\n",
    "\n",
    "\n"
   ]
  },
  {
   "cell_type": "code",
   "execution_count": 5,
   "metadata": {
    "id": "nxwlmL8z9wpE"
   },
   "outputs": [],
   "source": [
    "VARIABLES = ['sepal_length', 'sepal_width', 'petal_length', 'petal_width']\n",
    "\n",
    "def normalize_variable(pandas_column):\n",
    "  max = pandas_column.max()\n",
    "  min = pandas_column.min()\n",
    "  pandas_column = (pandas_column - min) / (max - min)\n",
    "  return pandas_column\n",
    "\n",
    "def normalize_dataset(pandas_dataset, variables=VARIABLES):\n",
    "  # Hacemos una copia para no modificar el dataset original\n",
    "  norm_df = pandas_dataset.copy()\n",
    "  for var in variables:\n",
    "    norm_df[var] = normalize_variable(norm_df[var])\n",
    "  return norm_df"
   ]
  },
  {
   "cell_type": "markdown",
   "metadata": {
    "id": "EvdKi4cA6wrI"
   },
   "source": [
    "La funcion `train_test_val` divide los datos de tal manera que:\n",
    "\n",
    "\n",
    "*   $N$ = nº Elementos del conjunto de datos completo\n",
    "*   $N · p_{val} $ = nº Elementos del conjunto de validacion\n",
    "*   $N · p_{test} $ = nº Elementos del conjunto de test\n",
    "*   $N · (1 - p_{val} - p_{test})$ = nº Elementos del conjunto de entrenamiento\n",
    "\n",
    "La función devolverá los conjuntos `train`, `test`, `val` ya particionados, y además aleatorizados.\n",
    "\n"
   ]
  },
  {
   "cell_type": "code",
   "execution_count": 6,
   "metadata": {
    "id": "B5r8uj0T-XHa"
   },
   "outputs": [],
   "source": [
    "def train_test_val(pandas_dataset, p_test, p_val, random_state=42):\n",
    "  # Particionado entre train, test y validacion\n",
    "  total_samples = len(pandas_dataset)\n",
    "  test_size = int(total_samples * p_test)\n",
    "  val_size = int(total_samples * p_val)\n",
    "\n",
    "  # Aleatorizamos\n",
    "  df = pandas_dataset.sample(frac=1)\n",
    "\n",
    "\n",
    "  return df[0:test_size].reset_index(drop=True), df[test_size:test_size + val_size].reset_index(drop=True), df[test_size + val_size:].reset_index(drop=True)"
   ]
  },
  {
   "cell_type": "markdown",
   "metadata": {
    "id": "4Vh1uCNq7zpZ"
   },
   "source": [
    "¡`preprocess` integra los anteriores apartados!"
   ]
  },
  {
   "cell_type": "code",
   "execution_count": 7,
   "metadata": {
    "id": "U9z__Mvi_zAl"
   },
   "outputs": [],
   "source": [
    "def preprocess(pandas_dataset, p_test, p_val, random_state=42, variables=VARIABLES, label='species'):\n",
    "  pandas_dataset = normalize_dataset(pandas_dataset, variables)\n",
    "  return train_test_val(pandas_dataset, p_test, p_val, random_state)"
   ]
  },
  {
   "cell_type": "code",
   "execution_count": 8,
   "metadata": {
    "id": "sKAsjhTCCzDe",
    "colab": {
     "base_uri": "https://localhost:8080/"
    },
    "outputId": "fa641370-0306-490d-c866-8bbebc44c3c0"
   },
   "outputs": [
    {
     "output_type": "execute_result",
     "data": {
      "text/plain": [
       "(    sepal_length  sepal_width  petal_length  petal_width     species\n",
       " 0       0.444444     0.500000      0.644068     0.708333  versicolor\n",
       " 1       0.444444     0.416667      0.694915     0.708333   virginica\n",
       " 2       0.583333     0.333333      0.779661     0.833333   virginica\n",
       " 3       0.361111     0.416667      0.593220     0.583333  versicolor\n",
       " 4       0.083333     0.500000      0.067797     0.041667      setosa\n",
       " 5       0.527778     0.333333      0.644068     0.708333   virginica\n",
       " 6       0.666667     0.208333      0.813559     0.708333   virginica\n",
       " 7       0.583333     0.500000      0.593220     0.583333  versicolor\n",
       " 8       0.361111     0.291667      0.542373     0.500000  versicolor\n",
       " 9       0.722222     0.458333      0.661017     0.583333  versicolor\n",
       " 10      0.166667     0.458333      0.084746     0.000000      setosa\n",
       " 11      0.666667     0.541667      0.796610     0.833333   virginica\n",
       " 12      0.333333     0.916667      0.067797     0.041667      setosa\n",
       " 13      0.750000     0.500000      0.627119     0.541667  versicolor\n",
       " 14      0.138889     0.416667      0.067797     0.000000      setosa,\n",
       "     sepal_length  sepal_width  petal_length  petal_width     species\n",
       " 0       0.416667     0.291667      0.694915     0.750000   virginica\n",
       " 1       0.166667     0.166667      0.389831     0.375000  versicolor\n",
       " 2       0.305556     0.416667      0.593220     0.583333  versicolor\n",
       " 3       0.583333     0.333333      0.779661     0.875000   virginica\n",
       " 4       0.388889     1.000000      0.084746     0.125000      setosa\n",
       " 5       0.194444     0.625000      0.101695     0.208333      setosa\n",
       " 6       0.805556     0.500000      0.847458     0.708333   virginica\n",
       " 7       0.472222     0.083333      0.508475     0.375000  versicolor\n",
       " 8       0.222222     0.583333      0.084746     0.041667      setosa\n",
       " 9       0.194444     0.666667      0.067797     0.041667      setosa\n",
       " 10      0.805556     0.416667      0.813559     0.625000   virginica\n",
       " 11      0.416667     0.333333      0.694915     0.958333   virginica\n",
       " 12      0.944444     0.750000      0.966102     0.875000   virginica\n",
       " 13      0.777778     0.416667      0.830508     0.833333   virginica\n",
       " 14      0.361111     0.375000      0.440678     0.500000  versicolor,\n",
       "      sepal_length  sepal_width  petal_length  petal_width     species\n",
       " 0        0.944444     0.333333      0.966102     0.791667   virginica\n",
       " 1        0.861111     0.333333      0.864407     0.750000   virginica\n",
       " 2        0.527778     0.083333      0.593220     0.583333  versicolor\n",
       " 3        0.472222     0.416667      0.644068     0.708333   virginica\n",
       " 4        0.194444     0.583333      0.084746     0.041667      setosa\n",
       " ..            ...          ...           ...          ...         ...\n",
       " 115      0.388889     0.333333      0.525424     0.500000  versicolor\n",
       " 116      0.305556     0.791667      0.050847     0.125000      setosa\n",
       " 117      0.194444     0.583333      0.101695     0.125000      setosa\n",
       " 118      0.500000     0.333333      0.508475     0.500000  versicolor\n",
       " 119      0.083333     0.458333      0.084746     0.041667      setosa\n",
       " \n",
       " [120 rows x 5 columns])"
      ]
     },
     "metadata": {},
     "execution_count": 8
    }
   ],
   "source": [
    "#Uso de preprocess\n",
    "preprocess(dataset, .1, .1)"
   ]
  },
  {
   "cell_type": "markdown",
   "metadata": {
    "id": "rsFArxD5rv8K"
   },
   "source": [
    "## Programando la red neuronal\n",
    "\n",
    "Estos son los pasos más delicados y sensibles a fallos de todo el cuaderno. Presta máxima atención a cada paso guiado para completar la práctica.\n",
    "\n",
    "Al final de cada sección se proporcionan ejemplos de uso. No los borres y usalos para verificar que tu código está funcionando adecuadamente."
   ]
  },
  {
   "cell_type": "markdown",
   "metadata": {
    "id": "sk5eS4XlGVjq"
   },
   "source": [
    "### Inicializado de la red\n",
    "\n",
    "Vamos a utilizar una inicialización concreta que funciona bien con el problema dado. En concreto se llama 'Glorot normal'. Esta inicialización hace que los pesos tomen un valor en una distribución normal de $μ=0$ y $σ = \\sqrt{\\frac{2}{in+out}}$ de tal forma que todos los pesos tomarán un valor aleatorio. Para inicializar una matriz de pesos usa `init_weights(inp, outp)`\n",
    "\n",
    "El resultado de `make_nn` será una red con $W$ y $θ$ tal que:\n",
    "$$W = [W^{(0)}, W^{(1)}, ..., W^{(d)}]$$\n",
    "$$θ = [θ^{(0)}, θ^{(1)}, ..., θ^{(d)}]$$\n",
    "\n",
    "Donde $d$ es el número de capas menos uno\n"
   ]
  },
  {
   "cell_type": "code",
   "execution_count": 9,
   "metadata": {
    "id": "0VrZm9YvnF5e"
   },
   "outputs": [],
   "source": [
    "def init_weigths(inp, outp):\n",
    "  # Glorot normal. No hace falta tocar esto!\n",
    "  std = np.sqrt(2/(inp+outp))\n",
    "  return np.random.normal(scale= std, size= (inp, outp))\n",
    "\n",
    "def make_nn(input_size, depth, width, output_size):\n",
    "  # Declarar pesos y sesgos para cada una de las capas (depth) con tantas\n",
    "  # neuronas como width. Inicializa la serie con valores en una distribucion\n",
    "  # Glorot normal. Asume que depth es el numero de capas ocultas y depth > 0.\n",
    "  # Elige la estructura de datos más conveniente para almacenar pesos y sesgos\n",
    "  network = {}\n",
    "  network['weights'] = []\n",
    "  network['biases'] = []\n",
    "  network['depth'] = depth\n",
    "  network['width'] = width\n",
    "  network['input_size'] = input_size\n",
    "  network['output_size'] = output_size\n",
    "\n",
    "  # 1. Capa de entrada, W0 y TH0\n",
    "  weights = init_weigths(input_size, output_size if depth == 0 else width)\n",
    "  network['weights'].append(weights)\n",
    "  network['biases'].append(np.zeros(output_size if depth == 0 else width))\n",
    "\n",
    "  # 2. Capas ocultas, W1..WD-1 y TH1..THD-1 donde D es depth\n",
    "  for i in range(depth - 2):\n",
    "    weights = init_weigths(width, width)\n",
    "    network['weights'].append(weights)\n",
    "    network['biases'].append(np.zeros(width))\n",
    "\n",
    "  # 3. Capa de salida, WD y THD donde D es depth\n",
    "  if depth > 0:\n",
    "    weights = init_weigths(width, output_size)\n",
    "    network['weights'].append(weights)\n",
    "    network['biases'].append(np.zeros(output_size))\n",
    "\n",
    "  return network\n",
    "  # Se devuelve una red neuronal con W y TH"
   ]
  },
  {
   "cell_type": "code",
   "execution_count": 10,
   "metadata": {
    "id": "9Qh6JQEuGgIl",
    "colab": {
     "base_uri": "https://localhost:8080/"
    },
    "outputId": "5a88c298-99b3-41d6-b0d4-18f77573cd81",
    "collapsed": true
   },
   "outputs": [
    {
     "output_type": "stream",
     "name": "stdout",
     "text": [
      "Layer 0: shape (4, 2)\n",
      "[0.91031717 0.41333203]\n",
      "[-0.5799792  -0.06018429]\n",
      "[ 0.03602393 -1.25205322]\n",
      "[-0.67906569  0.23536627]\n",
      "Layer 1: shape (2, 3)\n",
      "[-0.36723641 -0.15273832 -0.7984366 ]\n",
      "[-0.97996457  0.92550668 -1.18446585]\n"
     ]
    }
   ],
   "source": [
    "# Ejemplo de llamada a make_nn\n",
    "layers = make_nn(4, 1, 2, 3)\n",
    "for i, weights in enumerate(layers['weights']):\n",
    "  print(f'Layer {i}: shape {weights.shape}')\n",
    "  for j in weights:\n",
    "    print(j)"
   ]
  },
  {
   "cell_type": "markdown",
   "metadata": {
    "id": "cWJH7XrN7kFm"
   },
   "source": [
    "### Calcular la propagación hacia adelante\n",
    "\n",
    "Recuerda seguir la propagación hacia delante correctamente de acuerdo a las siguientes expresiones:\n",
    "$$Y^{(0)} = X $$\n",
    "$$Y^{(i+1)} = σ(Y^{(i)} W^{(i)} + θ^{(i)}) \\forall i = 0 .. d$$\n",
    "donde $d=$ depth, $σ=$ funcion sigmoidal, $Y^{(i)}=$ salida parcial de la capa $i$, $W^{(i)}=$ pesos en la capa $i$, $θ^{(i)}=$ umbral en la capa $i$.\n",
    "\n",
    "Además de $Y^{(d+1)}$ debes devolver en la función `forward` una estructura que almacene:\n",
    "$$Y = [Y^{(0)}, Y^{(1)}, ..., Y^{(d+1)}]$$"
   ]
  },
  {
   "cell_type": "code",
   "execution_count": 11,
   "metadata": {
    "id": "MZGAakN5qpmf"
   },
   "outputs": [],
   "source": [
    "############################ NO TOCAR ####################################\n",
    "def sig(x):\n",
    "  # Funcion sigmoide que recibe el valor Y(i)W(i)+Theta(i) en x.\n",
    "  return 1/(1+np.exp(-x.astype('float')))\n",
    "############################ NO TOCAR ####################################"
   ]
  },
  {
   "cell_type": "code",
   "execution_count": 12,
   "metadata": {
    "id": "uSmWhPpFnanE"
   },
   "outputs": [],
   "source": [
    "def forward(inputs, network, act= lambda x: x):\n",
    "  # Hacer la pasada hacia delante. Almacena las salidas parciales de la red\n",
    "  # en la estructura de datos que prefieras. Incluye también la entrada en\n",
    "  # dicha estructura. [inputs, salida_1, ..., salida_depth] donde salida_depth\n",
    "  # es la predicción.\n",
    "\n",
    "  # 1. Y(0) = X\n",
    "  # 2. Y(i+1) = sigmoid( Y(i) x W(i) + TH(i) ) foreach i in 0..d\n",
    "  outputs = []\n",
    "  outputs.append(inputs)\n",
    "\n",
    "  for i in range(len(network['weights'])):\n",
    "    num_neurons = len(network['weights'][i][0])\n",
    "    output = np.zeros(num_neurons)\n",
    "    for j in range(num_neurons):\n",
    "      output[j] = act(np.dot(outputs[i], network['weights'][i][:,j]) + network['biases'][i][j])\n",
    "    outputs.append(output)\n",
    "\n",
    "  return outputs[-1], outputs"
   ]
  },
  {
   "cell_type": "code",
   "execution_count": 13,
   "metadata": {
    "id": "9Ou-fg9XKknl",
    "colab": {
     "base_uri": "https://localhost:8080/"
    },
    "outputId": "5df3a15d-17d2-4bb2-86f3-6ea787024e85"
   },
   "outputs": [
    {
     "output_type": "execute_result",
     "data": {
      "text/plain": [
       "[array([1, 1, 1, 1]),\n",
       " array([0.42245491, 0.33994503]),\n",
       " array([0.38030004, 0.56220021, 0.3230136 ])]"
      ]
     },
     "metadata": {},
     "execution_count": 13
    }
   ],
   "source": [
    "# Ejemplo de salida de forward\n",
    "output, partials = forward(np.array([1,1,1,1]), layers, act=sig)\n",
    "partials"
   ]
  },
  {
   "cell_type": "markdown",
   "metadata": {
    "id": "SpGjusbL7ojN"
   },
   "source": [
    "### Computar la propagación hacia atrás\n",
    "**ATENCION**: Este es un paso MUY delicado.\n",
    "\n",
    "El algoritmo de retropropagación para la regla delta generalizada es el siguiente:\n",
    "\n",
    "1.   Contamos con $Y$ → extraemos $Y^{(d+1)}$\n",
    "2.   Computamos la pérdida como $$V^{(d+1)} = D - Y^{(d+1)}$$ donde $D$ es un vector del mismo tamaño que la salida, que contiene las salidas deseadas. (*Aclaración*: en nuestro caso son salidas categóricas codificadas como un vector [0,0,1], [0,1,0] o [1,0,0] para cada tipo de flor)\n",
    "3.   Computamos la regla delta usando $$f(y) = y · (1-y)$$\n",
    "$$δ^{(d+1)} = V^{(d+1)} ⊙ f(Y^{(d+1)})$$\n",
    "donde $f$ se proporciona en `sig_derivate(y)`. El operador ⊙ es el producto Hadamard (ejemplo: $(1,0,1) ⊙ (0,1,2) = (1·0, 0·1, 1·2) = (0, 0, 2)$)\n",
    "4.   Las actualizaciones de los pesos se computan como\n",
    "$$ΔW^{(d)} = α · Y^{(d)T}δ^{(d+1)}$$\n",
    "$$Δθ^{(d)} = α · δ^{(d+1)}$$\n",
    "5.   Los apartados anteriores se repiten para cada i igual a d hasta 1 de tal manera que se sigue la siguiente regla de la cadena:\n",
    "$$V^{(i)} = δ^{(i+1)}W^{(i)T}$$\n",
    "$$δ^{(i)} = V^{(i)} ⊙ f(Y^{(i)})$$\n",
    "$$ΔW^{(i-1)} = α · Y^{(i-1)T}δ^{(i)}$$\n",
    "$$Δθ^{(i-1)} = α · δ^{(i)}$$\n",
    "$$ ∀i=d..1$$\n",
    "\n",
    "El resultado serán las actualizaciones que almacenarás en una única estructura de datos:\n",
    "$$ΔW = [ΔW^{(0)}, ΔW^{(1)}, ..., ΔW^{(d)}]$$\n",
    "$$Δθ = [Δθ^{(0)}, Δθ^{(1)}, ..., Δθ^{(d)}]$$\n",
    "\n",
    "### **Un apunte:** Las activaciones y sus derivadas\n",
    "La derivada de la sigmoide ($σ$) es en realidad\n",
    "\n",
    "$$σ'(x) = \\frac{1}{1+e^{-x}} · (1 - \\frac{1}{1+e^{-x}}) = σ(x) · (1-σ(x)) $$\n",
    "\n",
    "de tal manera que para simplificar la operación utilizaremos $f(x)$\n",
    "\n",
    "$$f(x) = x · (1-x)$$\n",
    "\n",
    "a la que directamente podremos pasar $Y^{(i+1)} = σ(Y^{(i)}W^{(i)} + θ^{(i)})$ usando la expresion $f(Y^{(i)}) = σ'(Y^{(i)}W^{(i)} + θ^{(i)})$\n",
    "\n",
    "Si se deseara usar otra funcion de activacion para la red, habría que utilizar una $g(x)$ y su derivada $g'(x)$, en vez de $σ(x)$ y $σ'(x)$ respectivamente.\n"
   ]
  },
  {
   "cell_type": "code",
   "execution_count": 14,
   "metadata": {
    "id": "WWgts0EQqsMa"
   },
   "outputs": [],
   "source": [
    "############################ NO TOCAR ####################################\n",
    "def sig_derivate(y):\n",
    "  # Funcion sigmoide' que recibe el valor sigmoide(x) en y.\n",
    "  return y.astype('float')*(1-y.astype('float'))\n",
    "############################ NO TOCAR ####################################"
   ]
  },
  {
   "cell_type": "code",
   "execution_count": 43,
   "metadata": {
    "id": "hRnocB40o7d9"
   },
   "outputs": [],
   "source": [
    "def backward(desired, partials, network, alpha=1, rev_act= lambda x:x):\n",
    "  # Computar backpropagation, almacenar cada delta de los pesos de tal\n",
    "  # manera que se pueda actualizar los pesos durante el proceso de\n",
    "  # aprendizaje. Desired es la salida deseada, otro vector.\n",
    "  # partials contiene todas las salidas parciales usando la estructura\n",
    "  # [inputs, salida_1, ..., salida_depth]\n",
    "\n",
    "  updates = { 'weights': [], 'biases': []}\n",
    "\n",
    "  # V(d+1) = D - Y(d+1)$$\n",
    "  loss = desired - partials[-1]\n",
    "\n",
    "\n",
    "  # foreach i in d+1..1\n",
    "  for i in range(len(network['weights']), 0, -1):\n",
    "  #   delta(i) = V(i) · sig_derivate(Y(i))\n",
    "    delta = loss * rev_act(partials[i])\n",
    "  #   dW(i-1) = lr · Y(i-1).T x delta(i)\n",
    "    weight_updates = alpha * np.dot(partials[i-1].reshape(-1, 1), delta.reshape(1, -1))\n",
    "  #   dTH(i-1) = lr · delta(i)\n",
    "    bias_updates = alpha * delta\n",
    "    updates['weights'].insert(0, weight_updates)\n",
    "    updates['biases'].insert(0, bias_updates)\n",
    "  #   V(i-1) = delta(i) x W(i).T\n",
    "    loss = np.dot(delta, network['weights'][i - 1].T)\n",
    "\n",
    "  return updates\n",
    "  # Se devuelve una única estructura de datos con DW y DTH"
   ]
  },
  {
   "cell_type": "code",
   "execution_count": 44,
   "metadata": {
    "id": "Abdf-B5JSWXg",
    "colab": {
     "base_uri": "https://localhost:8080/"
    },
    "outputId": "c1660287-8b79-409c-cc43-c2537f52866a"
   },
   "outputs": [
    {
     "output_type": "stream",
     "name": "stdout",
     "text": [
      "Updates\n",
      "Layer 0: shape (4, 2)\n",
      "[ 0.00583118 -0.04207657]\n",
      "[ 0.00583118 -0.04207657]\n",
      "[ 0.00583118 -0.04207657]\n",
      "[ 0.00583118 -0.04207657]\n",
      "Layer 1: shape (2, 3)\n",
      "[ 0.0616978  -0.05845719 -0.02984021]\n",
      "[ 0.04964757 -0.04703988 -0.02401211]\n",
      "Biases\n",
      "Layer 0: shape (2,)\n",
      "[ 0.00583118 -0.04207657]\n",
      "Layer 1: shape (3,)\n",
      "[ 0.14604588 -0.13837498 -0.07063526]\n"
     ]
    }
   ],
   "source": [
    "# Ejemplo de salida de backward\n",
    "updates = backward(np.array([1,0,0]), partials, layers, 1, rev_act=sig_derivate)\n",
    "updates\n",
    "print('Updates')\n",
    "for i, weights in enumerate(updates['weights']):\n",
    "  print(f'Layer {i}: shape {weights.shape}')\n",
    "  for j in weights:\n",
    "    print(j)\n",
    "print('Biases')\n",
    "for i, bias in enumerate(updates['biases']):\n",
    "  print(f'Layer {i}: shape {bias.shape}')\n",
    "  print(bias)\n"
   ]
  },
  {
   "cell_type": "markdown",
   "metadata": {
    "id": "gai-P6JS7vW1"
   },
   "source": [
    "### Actualizacion de los pesos\n",
    "Usando las salidas de `backward(...)` y `network` que es la red entrenable, haremos la actualización de los pesos devolviendo una nueva red actualizada mediante la regla:\n",
    "$$W^{(i)}(t+1) = W^{(i)}(t) + ΔW^{(i)}(t)$$\n",
    "$$θ^{(i)}(t+1) = θ^{(i)}(t) + Δθ^{(i)}(t)$$"
   ]
  },
  {
   "cell_type": "code",
   "execution_count": 17,
   "metadata": {
    "id": "GroxExT3B0i2"
   },
   "outputs": [],
   "source": [
    "def update_weights(network, updates):\n",
    "  # Actualizar la red almacenada en network usando los updates\n",
    "  # Devuelve la red actualizada\n",
    "  new_network = {}\n",
    "\n",
    "  new_network['weights'] = []\n",
    "  new_network['biases'] = []\n",
    "  new_network['depth'] = network['depth']\n",
    "  new_network['width'] = network['width']\n",
    "  new_network['input_size'] = network['input_size']\n",
    "  new_network['output_size'] = network['output_size']\n",
    "\n",
    "  num_layers = len(network['weights'])\n",
    "\n",
    "  for i in range(num_layers):\n",
    "    new_network['weights'].append(network['weights'][i] + updates['weights'][i])\n",
    "    new_network['biases'].append(network['biases'][i] + updates['biases'][i])\n",
    "\n",
    "\n",
    "  # 1. W(i) += dW(i)\n",
    "  # 2. TH(i) += dTH(i)\n",
    "\n",
    "  return new_network\n",
    "  # Se devuelve una red entera con W y TH"
   ]
  },
  {
   "cell_type": "code",
   "source": [
    "# Example of update_weights\n",
    "new_layers = update_weights(layers, updates)\n",
    "new_layers"
   ],
   "metadata": {
    "colab": {
     "base_uri": "https://localhost:8080/"
    },
    "id": "ZX5yhEpJIKSC",
    "outputId": "8daa5b08-af89-43e2-ef61-d4ae2d8728a1"
   },
   "execution_count": 53,
   "outputs": [
    {
     "output_type": "execute_result",
     "data": {
      "text/plain": [
       "{'weights': [array([[ 0.91614835,  0.37125546],\n",
       "         [-0.57414801, -0.10226085],\n",
       "         [ 0.04185511, -1.29412979],\n",
       "         [-0.67323451,  0.1932897 ]]),\n",
       "  array([[-0.30553861, -0.21119551, -0.82827682],\n",
       "         [-0.930317  ,  0.87846679, -1.20847796]])],\n",
       " 'biases': [array([ 0.00583118, -0.04207657]),\n",
       "  array([ 0.14604588, -0.13837498, -0.07063526])],\n",
       " 'depth': 1,\n",
       " 'width': 2,\n",
       " 'input_size': 4,\n",
       " 'output_size': 3}"
      ]
     },
     "metadata": {},
     "execution_count": 53
    }
   ]
  },
  {
   "cell_type": "markdown",
   "metadata": {
    "id": "lfGUFrRPnlfB"
   },
   "source": [
    "## Entrenamiento y Validación\n",
    "Aquí vamos a hacer los pasos de entrenamiento, validación y su composición en una época completa.\n",
    "\n",
    "El paso de entrenamiento es:\n",
    "\n",
    "\n",
    "*   Del ejemplo extraemos los datos de entrada $X$ asi como la salida deseada $D$\n",
    "*   La funcion `forward` que recibe $X$, ($W$, $θ$) y la función $σ$. Las salidas de forward son una tupla conteniendo $Y^{(d+1)}$ e $Y$, extrae $Y$\n",
    "*   La funcion `backward` que recibe $D$, $Y$, ($W$, $θ$), $α$ y $σ'$. Las salidas de backward contienen una estructura con $ΔW$ y $Δθ$\n",
    "*   La funcion `update_weights` que recibe ($W$, $θ$) y ($ΔW$ y $Δθ$)\n",
    "*   Se devuelve la salida de la funcion **update_weights**\n",
    "\n"
   ]
  },
  {
   "cell_type": "code",
   "execution_count": 18,
   "metadata": {
    "id": "FCKSJwipPCCf"
   },
   "outputs": [],
   "source": [
    "TO_ARR = {'versicolor': np.array([0,0,1]),\n",
    "          'virginica': np.array([0,1,0]),\n",
    "          'setosa': np.array([1,0,0]),\n",
    "        } # Diccionario para pasar de categorico a one hot encoding!\n",
    "\n",
    "def train_step(example, network, alpha=1):\n",
    "  ## Usa las funciones definidas anteriormente para crear el paso de entrenamiento\n",
    "  ## Devuelve una red actualizada\n",
    "  desired = TO_ARR[example['species']]\n",
    "  inputs = np.array([example['sepal_length'], example['sepal_width'], example['petal_length'], example['petal_width']])\n",
    "  output, partials = forward(inputs, network, act=sig)\n",
    "  updates = backward(desired, partials, network, alpha, rev_act=sig_derivate)\n",
    "  new_network = update_weights(network, updates)\n",
    "\n",
    "  # Extraer un ejemplo\n",
    "  # Propagar hacia delante\n",
    "  # Calcular loss y propagar hacia detras\n",
    "  # Actualizar pesos\n",
    "\n",
    "  return new_network\n",
    "  # Se devuelve una red entera con W y TH"
   ]
  },
  {
   "cell_type": "markdown",
   "metadata": {
    "id": "AlnS90LNIibY"
   },
   "source": [
    "El paso de validacion es:\n",
    "*   Del ejemplo extraemos los datos de entrada $X$ asi como la salida deseada $D$\n",
    "*   La funcion `forward` que recibe $X$, ($W$, $θ$) y la función $σ$. Las salidas de forward son una tupla conteniendo $Y^{(d+1)}$ e $Y$, extrae $Y^{(d+1)}$\n",
    "*   Se devuelve SOLO $Y^{(d+1)}$\n"
   ]
  },
  {
   "cell_type": "code",
   "execution_count": 19,
   "metadata": {
    "id": "OaHZI2BufYp_"
   },
   "outputs": [],
   "source": [
    "def pred_step(example, network):\n",
    "  ## Usa las funciones definidas para extraer un ejemplo y calcular su prediccion\n",
    "\n",
    "  # Extraer un ejemplo\n",
    "  # Propagar hacia delante\n",
    "  inputs = np.array([example['sepal_length'], example['sepal_width'], example['petal_length'], example['petal_width']])\n",
    "  output, partials = forward(inputs, network, act=sig)\n",
    "\n",
    "  return output\n",
    "  # Un vector con la predicción en bruto Y(d+1)"
   ]
  },
  {
   "cell_type": "markdown",
   "metadata": {
    "id": "no_m6jh4It9X"
   },
   "source": [
    "La epoca completa de entrenamiento es un bucle sencillo. Para cada ejemplo de entrenamiento se produce un paso de entrenamiento, simplemente. Haz todas las operaciones necesarias intermedias que consideres necesarias para iterar por todo el conjunto de datos y obtener un $X$ y un $D$.\n",
    "\n",
    "Además se recomiendo extraer alguna métrica para evalual más adelante si está funcionando o no la red:\n",
    "\n",
    "\n",
    "*   Usa `pred_step` para sacar una predicción\n",
    "*   Puedes volver a medir el MAE del ejemplo $\\sum^n_{j=1} \\frac{1}{n}|D_j-Y_j^{(d+1)}|$ donde $n$ es el numero de etiquetas.\n",
    "\n",
    "¡También puedes probar a medir el accuracy, o el f1-score!\n",
    "\n",
    "\n"
   ]
  },
  {
   "cell_type": "code",
   "execution_count": 51,
   "metadata": {
    "id": "FM0OI7npg8LF"
   },
   "outputs": [],
   "source": [
    "def train_epoch(dataset, network, alpha=1):\n",
    "  ## Bucle de entrenamiento. Si quieres puedes extraer métricas de entrenamiento\n",
    "  metrics = []\n",
    "  examples = dataset.to_dict('records')\n",
    "  total_correct = 0\n",
    "  mae = 0\n",
    "\n",
    "  for example in examples:\n",
    "    network = train_step(example, network, alpha)\n",
    "\n",
    "    pred = pred_step(example, network)\n",
    "\n",
    "    if np.argmax(pred) == np.argmax(TO_ARR[example['species']]):\n",
    "      total_correct += 1\n",
    "\n",
    "    mae += np.mean(np.abs(TO_ARR[example['species']] - pred))\n",
    "\n",
    "  metrics.append((total_correct / len(examples)) * 100)\n",
    "  metrics.append(mae)\n",
    "\n",
    "  return network, metrics\n",
    "  # Este método debe devolver la estructura que contenga la red neuronal y las metricas."
   ]
  },
  {
   "cell_type": "markdown",
   "metadata": {
    "id": "Pf-kAleLJsmo"
   },
   "source": [
    "Esta es la época de validación, ahora no necesitas hacer un paso de entrenamiento, solo extraer predicciones y demás comprobaciones."
   ]
  },
  {
   "cell_type": "code",
   "execution_count": 50,
   "metadata": {
    "id": "4476IOXDhXMR"
   },
   "outputs": [],
   "source": [
    "def valid_epoch(dataset, network):\n",
    "  ## Bucle de validacion. Solo se extraen las metricas de validacion\n",
    "  metrics = []\n",
    "  examples = dataset.to_dict('records')\n",
    "  total_correct = 0\n",
    "  mae = 0\n",
    "\n",
    "  for example in examples:\n",
    "    pred = pred_step(example, network)\n",
    "\n",
    "    if np.argmax(pred) == np.argmax(TO_ARR[example['species']]):\n",
    "      total_correct += 1\n",
    "\n",
    "    mae += np.mean(np.abs(TO_ARR[example['species']] - pred))\n",
    "\n",
    "  metrics.append((total_correct / len(examples)) * 100)\n",
    "  metrics.append(mae)\n",
    "\n",
    "  return metrics\n",
    "  # Este método debe devolver solo las metricas."
   ]
  },
  {
   "cell_type": "markdown",
   "metadata": {
    "id": "v0flBhGFnlfC"
   },
   "source": [
    "## Test"
   ]
  },
  {
   "cell_type": "code",
   "execution_count": 49,
   "metadata": {
    "id": "zBsXKFNl1Luj"
   },
   "outputs": [],
   "source": [
    "def test_epoch(dataset, network):\n",
    "  metrics = []\n",
    "  examples = dataset.to_dict('records')\n",
    "  total_correct = 0\n",
    "  mae = 0\n",
    "\n",
    "  for example in examples:\n",
    "    pred = pred_step(example, network)\n",
    "\n",
    "    if np.argmax(pred) == np.argmax(TO_ARR[example['species']]):\n",
    "      total_correct += 1\n",
    "\n",
    "    mae += np.mean(np.abs(TO_ARR[example['species']] - pred))\n",
    "\n",
    "  metrics.append((total_correct / len(examples)) * 100)\n",
    "  metrics.append(mae)\n",
    "\n",
    "  return metrics\n",
    "  # Este método debe devolver solo las metricas."
   ]
  },
  {
   "cell_type": "markdown",
   "metadata": {
    "id": "6c4HsxrR2GIR"
   },
   "source": [
    "## Entrenamiento completo\n",
    "Ahora viene el gran paso: hacer un entrenamiento completo usando el método `run`.\n",
    "El algoritmo es sencillo en este caso, para cada epoca dada en `epoch`, computar\n",
    "\n",
    "1.   Una pasada de entrenamiento, devolviendo red y métricas\n",
    "2.   Una pasada de validacion, devolviendo las métricas de validacion\n",
    "3.   Imprimir por pantalla toda la informacion que se considere oportuna\n",
    "4.   Finalizar bucle si se cumple criterio de parada, sino, repetir desde #1\n",
    "5.   Computar las métricas de test y, si procede, imprimirlas\n",
    "6.   Se devuelve solo las metricas de test\n"
   ]
  },
  {
   "cell_type": "code",
   "execution_count": 23,
   "metadata": {
    "id": "UrOT94bW3HU-"
   },
   "outputs": [],
   "source": [
    "def logger(i, metrics, msg='', *args, **kwargs):\n",
    "  # Imprime las metricas obtenidas para la epoch = i\n",
    "  if len(metrics) > 0:\n",
    "    print(f'{i}= {msg} - Acc: {metrics[0]}, Loss: {metrics[1]}')"
   ]
  },
  {
   "cell_type": "code",
   "execution_count": 37,
   "metadata": {
    "id": "hWaZfC5E2FeG"
   },
   "outputs": [],
   "source": [
    "def run(train, test, val, network, alpha=1, epochs=2, verbose=False):\n",
    "  ## Bucle completo dado el numero de epochs.\n",
    "  # 1. preprocess\n",
    "  # 2. train/valid process\n",
    "  # 3. test\n",
    "  for i in range(epochs):\n",
    "    network, train_metrics = train_epoch(train, network, alpha)\n",
    "    valid_metrics = valid_epoch(val, network)\n",
    "    if verbose:\n",
    "      logger(i, train_metrics, 'train metrics')\n",
    "      logger(i, valid_metrics, 'valid metrics')\n",
    "\n",
    "  test_metrics = test_epoch(test, network)\n",
    "  logger(i, test_metrics, 'test metrics')\n",
    "\n",
    "  return test_metrics"
   ]
  },
  {
   "cell_type": "markdown",
   "metadata": {
    "id": "9GR8z-HEnlfF"
   },
   "source": [
    "# Experimentos\n",
    "Usa la función `run_experiment` para extraer resultados."
   ]
  },
  {
   "cell_type": "markdown",
   "metadata": {
    "id": "8bqZZ5hWnlfF"
   },
   "source": [
    "## Utilidades\n",
    "Usa el método `run_experiment` para lanzar los experimentos. Para que todo funcione correctamente cada parte anterior debe estar correctamente programada. Se recomienda hacer 5 ejecuciones que devuelven una lista con todas las metricas que se hayan descrito durante la ejecucion."
   ]
  },
  {
   "cell_type": "code",
   "execution_count": 25,
   "metadata": {
    "id": "ftjYx92f7YKV"
   },
   "outputs": [],
   "source": [
    "############################ NO TOCAR ####################################\n",
    "def run_experiment(dataset, network_depth, network_width, alpha=1,\n",
    "                   epochs=100, p_val=.1, p_test=.1, seeds=[1,2,3,4,5],\n",
    "                   verbose=False):\n",
    "  label = 'species'\n",
    "  vars = ['sepal_length', 'sepal_width', 'petal_length', 'petal_width']\n",
    "\n",
    "  test_metrics = []\n",
    "\n",
    "  for seed in seeds:\n",
    "    set_seed(seed)\n",
    "    output_size = len(dataset[label].unique())\n",
    "    input_size = len(vars)\n",
    "    network = make_nn(input_size, network_depth, network_width, output_size)\n",
    "    train, test, val = preprocess(dataset, p_val, p_test, random_state=seed)\n",
    "\n",
    "    test_metrics.append(run(train, test, val, network, alpha=alpha, epochs=epochs, verbose=verbose))\n",
    "\n",
    "  return test_metrics # Se devuelve una lista de estructuras de datos conteniendo las metricas medidas\n",
    "\n",
    "##########################################################################"
   ]
  },
  {
   "cell_type": "markdown",
   "metadata": {
    "id": "Mz9nUUv6rv8a"
   },
   "source": [
    "### Generación de números aleatorios"
   ]
  },
  {
   "cell_type": "code",
   "execution_count": 26,
   "metadata": {
    "id": "-GLudzBirv8a"
   },
   "outputs": [],
   "source": [
    "import numpy as np\n",
    "import random\n",
    "def set_seed(seed):\n",
    "    # Se debe fijar la semilla usada para generar números aleatorios\n",
    "    # En la libreria random\n",
    "    random.seed(seed)\n",
    "    # En la libreria numpy\n",
    "    np.random.seed(seed)"
   ]
  },
  {
   "cell_type": "markdown",
   "metadata": {
    "id": "6l3mk4KUnlfG"
   },
   "source": [
    "## Ejecuciones\n",
    "Este espacio de la práctica está reservado a las ejecuciones de los algoritmos. Se recomienda el uso del método launch_experiment."
   ]
  },
  {
   "cell_type": "code",
   "execution_count": 52,
   "metadata": {
    "id": "A2xM4VN4nlfG",
    "colab": {
     "base_uri": "https://localhost:8080/"
    },
    "outputId": "b69fab57-e283-4f88-943d-c7fdd19934dd"
   },
   "outputs": [
    {
     "output_type": "stream",
     "name": "stdout",
     "text": [
      "99= test metrics - Acc: 60.0, Loss: 6.437759797854431\n",
      "99= test metrics - Acc: 26.666666666666668, Loss: 6.154575592423307\n",
      "99= test metrics - Acc: 73.33333333333333, Loss: 6.17897877706531\n",
      "99= test metrics - Acc: 40.0, Loss: 6.62767300525337\n",
      "99= test metrics - Acc: 66.66666666666666, Loss: 5.798798863907102\n"
     ]
    },
    {
     "output_type": "execute_result",
     "data": {
      "text/plain": [
       "[[60.0, 6.437759797854431],\n",
       " [26.666666666666668, 6.154575592423307],\n",
       " [73.33333333333333, 6.17897877706531],\n",
       " [40.0, 6.62767300525337],\n",
       " [66.66666666666666, 5.798798863907102]]"
      ]
     },
     "metadata": {},
     "execution_count": 52
    }
   ],
   "source": [
    "# Crear un conjunto de 5 semillas para los experimentos\n",
    "seeds = [1234567890 + i*23 for i in range(5)] # Semillas de ejemplo, cambiar por las semillas que se quieran\n",
    "run_experiment(dataset, 1, 1, alpha=0.1, epochs=100, seeds=seeds)"
   ]
  },
  {
   "cell_type": "markdown",
   "metadata": {
    "id": "dznNYK44nlfG"
   },
   "source": [
    "### Exploración de hiperparámetros"
   ]
  },
  {
   "cell_type": "code",
   "execution_count": 38,
   "metadata": {
    "id": "J5TlnFldnlfH",
    "colab": {
     "base_uri": "https://localhost:8080/"
    },
    "outputId": "e6c89bca-5613-47cf-bab5-44a367bd8dbd"
   },
   "outputs": [
    {
     "output_type": "stream",
     "name": "stdout",
     "text": [
      "24= test metrics - Acc: 46.666666666666664, Loss: 0.3883105800703361\n",
      "24= test metrics - Acc: 66.66666666666666, Loss: 0.4807536888774555\n",
      "24= test metrics - Acc: 73.33333333333333, Loss: 0.5495665525029089\n",
      "24= test metrics - Acc: 40.0, Loss: 0.4420419536294067\n",
      "24= test metrics - Acc: 66.66666666666666, Loss: 0.540253366509383\n",
      "Width 2 Depth 1 Accuracy: 58.66666666666665\n",
      "================================================================================\n",
      "24= test metrics - Acc: 26.666666666666668, Loss: 0.4102931796929237\n",
      "24= test metrics - Acc: 40.0, Loss: 0.35842231807551195\n",
      "24= test metrics - Acc: 26.666666666666668, Loss: 0.4552448305432501\n",
      "24= test metrics - Acc: 26.666666666666668, Loss: 0.44339882899426075\n",
      "24= test metrics - Acc: 20.0, Loss: 0.6485437717609733\n",
      "Width 32 Depth 1 Accuracy: 28.0\n",
      "================================================================================\n",
      "24= test metrics - Acc: 40.0, Loss: 0.5453462242255327\n",
      "24= test metrics - Acc: 40.0, Loss: 0.35074372044169766\n",
      "24= test metrics - Acc: 46.666666666666664, Loss: 0.46514032359265894\n",
      "24= test metrics - Acc: 33.33333333333333, Loss: 0.39925159892999695\n",
      "24= test metrics - Acc: 40.0, Loss: 0.2970145975513825\n",
      "Width 512 Depth 1 Accuracy: 40.0\n",
      "================================================================================\n",
      "24= test metrics - Acc: 60.0, Loss: 0.509536641902406\n",
      "24= test metrics - Acc: 40.0, Loss: 0.5527170877583623\n",
      "24= test metrics - Acc: 73.33333333333333, Loss: 0.5566661264394587\n",
      "24= test metrics - Acc: 20.0, Loss: 0.5711393425868966\n",
      "24= test metrics - Acc: 100.0, Loss: 0.4039709279428094\n",
      "Width 2 Depth 2 Accuracy: 58.666666666666664\n",
      "================================================================================\n",
      "24= test metrics - Acc: 46.666666666666664, Loss: 0.2614492038349366\n",
      "24= test metrics - Acc: 13.333333333333334, Loss: 0.5355907105106946\n",
      "24= test metrics - Acc: 53.333333333333336, Loss: 0.5792379237716592\n",
      "24= test metrics - Acc: 53.333333333333336, Loss: 0.3493604761257916\n",
      "24= test metrics - Acc: 20.0, Loss: 0.43632712368199605\n",
      "Width 32 Depth 2 Accuracy: 37.333333333333336\n",
      "================================================================================\n",
      "24= test metrics - Acc: 40.0, Loss: 0.45217475936623686\n",
      "24= test metrics - Acc: 46.666666666666664, Loss: 0.43769449456697435\n",
      "24= test metrics - Acc: 33.33333333333333, Loss: 0.5311000431754753\n",
      "24= test metrics - Acc: 33.33333333333333, Loss: 0.4339785584073928\n",
      "24= test metrics - Acc: 33.33333333333333, Loss: 0.36796546891225557\n",
      "Width 512 Depth 2 Accuracy: 37.33333333333333\n",
      "================================================================================\n",
      "24= test metrics - Acc: 86.66666666666667, Loss: 0.5602209652112026\n",
      "24= test metrics - Acc: 66.66666666666666, Loss: 0.3584832199926049\n",
      "24= test metrics - Acc: 60.0, Loss: 0.46365770504625314\n",
      "24= test metrics - Acc: 80.0, Loss: 0.37193246461646207\n",
      "24= test metrics - Acc: 46.666666666666664, Loss: 0.5155262299173753\n",
      "Width 2 Depth 2 Accuracy: 68.0\n",
      "================================================================================\n",
      "24= test metrics - Acc: 40.0, Loss: 0.5406003460160317\n",
      "24= test metrics - Acc: 46.666666666666664, Loss: 0.2902072609063426\n",
      "24= test metrics - Acc: 20.0, Loss: 0.37563532340807376\n",
      "24= test metrics - Acc: 13.333333333333334, Loss: 0.5411937034837959\n",
      "24= test metrics - Acc: 40.0, Loss: 0.3152379884841971\n",
      "Width 32 Depth 2 Accuracy: 32.0\n",
      "================================================================================\n",
      "24= test metrics - Acc: 60.0, Loss: 0.38835891960503016\n",
      "24= test metrics - Acc: 33.33333333333333, Loss: 0.3487848562221824\n",
      "24= test metrics - Acc: 26.666666666666668, Loss: 0.56802190867818\n",
      "24= test metrics - Acc: 26.666666666666668, Loss: 0.47462787948547747\n",
      "24= test metrics - Acc: 26.666666666666668, Loss: 0.46575934663375\n",
      "Width 512 Depth 2 Accuracy: 34.666666666666664\n",
      "================================================================================\n"
     ]
    }
   ],
   "source": [
    "### Coloca aquí tus experimentos Width 2,32,512 Depth 1,2,4 ###\n",
    "metrics = run_experiment(dataset, 2, 1, alpha=0.5, epochs=25, seeds=seeds)\n",
    "print(f'Width 2 Depth 1 Accuracy: {np.array(metrics).mean(axis=0)[0]}')\n",
    "print('='*80)\n",
    "metrics = run_experiment(dataset, 32, 1, alpha=0.5, epochs=25, seeds=seeds)\n",
    "print(f'Width 32 Depth 1 Accuracy: {np.array(metrics).mean(axis=0)[0]}')\n",
    "print('='*80)\n",
    "metrics = run_experiment(dataset, 512, 1, alpha=0.5, epochs=25, seeds=seeds)\n",
    "print(f'Width 512 Depth 1 Accuracy: {np.array(metrics).mean(axis=0)[0]}')\n",
    "print('='*80)\n",
    "\n",
    "metrics = run_experiment(dataset, 2, 2, alpha=0.5, epochs=25, seeds=seeds)\n",
    "print(f'Width 2 Depth 2 Accuracy: {np.array(metrics).mean(axis=0)[0]}')\n",
    "print('='*80)\n",
    "metrics = run_experiment(dataset, 32, 2, alpha=0.5, epochs=25, seeds=seeds)\n",
    "print(f'Width 32 Depth 2 Accuracy: {np.array(metrics).mean(axis=0)[0]}')\n",
    "print('='*80)\n",
    "metrics = run_experiment(dataset, 512, 2, alpha=0.5, epochs=25, seeds=seeds)\n",
    "print(f'Width 512 Depth 2 Accuracy: {np.array(metrics).mean(axis=0)[0]}')\n",
    "print('='*80)\n",
    "\n",
    "metrics = run_experiment(dataset, 2, 4, alpha=0.5, epochs=25, seeds=seeds)\n",
    "print(f'Width 2 Depth 2 Accuracy: {np.array(metrics).mean(axis=0)[0]}')\n",
    "print('='*80)\n",
    "metrics = run_experiment(dataset, 32, 4, alpha=0.5, epochs=25, seeds=seeds)\n",
    "print(f'Width 32 Depth 2 Accuracy: {np.array(metrics).mean(axis=0)[0]}')\n",
    "print('='*80)\n",
    "metrics = run_experiment(dataset, 512, 4, alpha=0.5, epochs=25, seeds=seeds)\n",
    "print(f'Width 512 Depth 2 Accuracy: {np.array(metrics).mean(axis=0)[0]}')\n",
    "print('='*80)\n"
   ]
  },
  {
   "cell_type": "markdown",
   "metadata": {
    "id": "9J59QSZrnlfH"
   },
   "source": [
    "**Resultados y Conclusiones**\n",
    "\n",
    "| Neuronas \\ Profundidad | 1  | 2  | 4  |\n",
    "|------------------------|----|----|----|\n",
    "| 2                      | 58 | 58 | 68 |\n",
    "| 32                     | 28 | 37 | 32 |\n",
    "| 512                    | 40 | 37 | 34 |\n",
    "\n",
    "La tabla de resultados y una valoración crítica de los resultados. Incluye las conclusiones.\n",
    "\n",
    "Los resultados parecen indicar que el número de neuronas y de layers no afecta demasiado a la accuracy.\n",
    "También los malos resultados pueden indicar que hay algún error en el código, ya que es un dataset muy sencillo de predecir."
   ]
  }
 ],
 "metadata": {
  "colab": {
   "provenance": []
  },
  "kernelspec": {
   "display_name": "py12",
   "language": "python",
   "name": "python3"
  },
  "language_info": {
   "codemirror_mode": {
    "name": "ipython",
    "version": 3
   },
   "file_extension": ".py",
   "mimetype": "text/x-python",
   "name": "python",
   "nbconvert_exporter": "python",
   "pygments_lexer": "ipython3",
   "version": "3.12.1"
  }
 },
 "nbformat": 4,
 "nbformat_minor": 0
}
